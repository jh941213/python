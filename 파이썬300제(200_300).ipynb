{
  "nbformat": 4,
  "nbformat_minor": 0,
  "metadata": {
    "colab": {
      "provenance": [],
      "authorship_tag": "ABX9TyNTCQb2vTdphn1zsrnB1TdR",
      "include_colab_link": true
    },
    "kernelspec": {
      "name": "python3",
      "display_name": "Python 3"
    },
    "language_info": {
      "name": "python"
    }
  },
  "cells": [
    {
      "cell_type": "markdown",
      "metadata": {
        "id": "view-in-github",
        "colab_type": "text"
      },
      "source": [
        "<a href=\"https://colab.research.google.com/github/jh941213/python/blob/main/%ED%8C%8C%EC%9D%B4%EC%8D%AC300%EC%A0%9C(200_300).ipynb\" target=\"_parent\"><img src=\"https://colab.research.google.com/assets/colab-badge.svg\" alt=\"Open In Colab\"/></a>"
      ]
    },
    {
      "cell_type": "code",
      "execution_count": null,
      "metadata": {
        "colab": {
          "base_uri": "https://localhost:8080/"
        },
        "id": "EUKvilTNy8Fd",
        "outputId": "588d56ea-dc05-4115-b921-cba0fcecf7d8"
      },
      "outputs": [
        {
          "output_type": "stream",
          "name": "stdout",
          "text": [
            "비트코인 bitcoin\n"
          ]
        }
      ],
      "source": [
        "201\n",
        "def print_coin():\n",
        "    tot = print(\"비트코인\",'bitcoin')\n",
        "    return tot\n",
        "\n",
        "print_coin()"
      ]
    },
    {
      "cell_type": "code",
      "source": [
        "#202\n",
        "for i in range(100):\n",
        "    print_coin()"
      ],
      "metadata": {
        "id": "GsL3qmrAzOQp"
      },
      "execution_count": null,
      "outputs": []
    },
    {
      "cell_type": "code",
      "source": [
        "#203\n",
        "for i in range(100):\n",
        "    print_coin()"
      ],
      "metadata": {
        "id": "4sWdGyTwzy5M"
      },
      "execution_count": null,
      "outputs": []
    },
    {
      "cell_type": "code",
      "source": [
        "#204\n",
        "def print_coins():\n",
        "    for i in range(100):\n",
        "        print(\"비트코인\")\n",
        "\n",
        "print_coins"
      ],
      "metadata": {
        "colab": {
          "base_uri": "https://localhost:8080/"
        },
        "id": "koINyt3z0DKQ",
        "outputId": "dd5f449c-e7ce-46c5-de8d-d0db92cde681"
      },
      "execution_count": null,
      "outputs": [
        {
          "output_type": "execute_result",
          "data": {
            "text/plain": [
              "<function __main__.print_coins()>"
            ]
          },
          "metadata": {},
          "execution_count": 6
        }
      ]
    },
    {
      "cell_type": "code",
      "source": [
        "#205\n",
        "#위에 선언되어서 함수가 선언전에#"
      ],
      "metadata": {
        "id": "W09Xwiin0DMp"
      },
      "execution_count": null,
      "outputs": []
    },
    {
      "cell_type": "code",
      "source": [
        "#206\n",
        "def message() :\n",
        "    print(\"A\")\n",
        "    print(\"B\")\n",
        "\n",
        "message()\n",
        "print(\"C\")\n",
        "message()"
      ],
      "metadata": {
        "colab": {
          "base_uri": "https://localhost:8080/"
        },
        "id": "4Sd6Xgjx0DPQ",
        "outputId": "85e373d0-688e-4f08-b596-8f66a51bc829"
      },
      "execution_count": null,
      "outputs": [
        {
          "output_type": "stream",
          "name": "stdout",
          "text": [
            "A\n",
            "B\n",
            "C\n",
            "A\n",
            "B\n"
          ]
        }
      ]
    },
    {
      "cell_type": "code",
      "source": [
        "#207\n",
        "print(\"A\")\n",
        "\n",
        "def message() :\n",
        "    print(\"B\")\n",
        "\n",
        "print(\"C\")\n",
        "message()"
      ],
      "metadata": {
        "colab": {
          "base_uri": "https://localhost:8080/"
        },
        "id": "zDDWSJAS0DRs",
        "outputId": "946c884b-b256-4cee-fa61-d37f4f52e44d"
      },
      "execution_count": null,
      "outputs": [
        {
          "output_type": "stream",
          "name": "stdout",
          "text": [
            "A\n",
            "C\n",
            "B\n"
          ]
        }
      ]
    },
    {
      "cell_type": "code",
      "source": [
        "#208\n",
        "print(\"A\")\n",
        "def message1() :\n",
        "    print(\"B\")\n",
        "print(\"C\")\n",
        "def message2() :\n",
        "    print(\"D\")\n",
        "message1()\n",
        "print(\"E\")\n",
        "message2()\n",
        "#ACBED"
      ],
      "metadata": {
        "id": "2kyGB1MC0DTy"
      },
      "execution_count": null,
      "outputs": []
    },
    {
      "cell_type": "code",
      "source": [
        "def message1():\n",
        "    print(\"A\")\n",
        "\n",
        "def message2():\n",
        "    print(\"B\")\n",
        "    message1()\n",
        "\n",
        "message2()"
      ],
      "metadata": {
        "colab": {
          "base_uri": "https://localhost:8080/"
        },
        "id": "rL7wT2q70DWQ",
        "outputId": "b388a37f-b834-49ce-ce92-bc0cf20c888f"
      },
      "execution_count": null,
      "outputs": [
        {
          "output_type": "stream",
          "name": "stdout",
          "text": [
            "B\n",
            "A\n"
          ]
        }
      ]
    },
    {
      "cell_type": "code",
      "source": [
        "#210\n",
        "def message1():\n",
        "    print(\"A\")\n",
        "\n",
        "def message2():\n",
        "    print(\"B\")\n",
        "\n",
        "def message3():\n",
        "    for i in range (3) :\n",
        "        message2()\n",
        "        print(\"C\")\n",
        "    message1()\n",
        "\n",
        "message3()"
      ],
      "metadata": {
        "id": "CS3drG1i01Lc"
      },
      "execution_count": null,
      "outputs": []
    },
    {
      "cell_type": "code",
      "source": [
        "#211\n",
        "def 함수(문자열) :\n",
        "    print(문자열)\n",
        "\n",
        "함수(\"안녕\")\n",
        "함수(\"Hi\")"
      ],
      "metadata": {
        "colab": {
          "base_uri": "https://localhost:8080/"
        },
        "id": "iGnuBKkE1O7m",
        "outputId": "4c24ee5b-a0ed-4f63-a1b7-751dd229a785"
      },
      "execution_count": null,
      "outputs": [
        {
          "output_type": "stream",
          "name": "stdout",
          "text": [
            "안녕\n",
            "Hi\n"
          ]
        }
      ]
    },
    {
      "cell_type": "code",
      "source": [
        "#212\n",
        "def 함수(a, b) :\n",
        "    print(a + b)\n",
        "\n",
        "함수(3, 4)\n",
        "함수(7, 8)"
      ],
      "metadata": {
        "colab": {
          "base_uri": "https://localhost:8080/"
        },
        "id": "ASPsQb4p1PBQ",
        "outputId": "b041541f-bfff-4970-9a18-bf60f150eecf"
      },
      "execution_count": null,
      "outputs": [
        {
          "output_type": "stream",
          "name": "stdout",
          "text": [
            "7\n",
            "15\n"
          ]
        }
      ]
    },
    {
      "cell_type": "code",
      "source": [
        "#213\n",
        "def 함수(문자열) :\n",
        "    print(문자열)\n",
        "\n",
        "    #파라미터입력"
      ],
      "metadata": {
        "id": "PQq0gZ7S1ZgI"
      },
      "execution_count": null,
      "outputs": []
    },
    {
      "cell_type": "code",
      "source": [
        "#214 str, 숫자"
      ],
      "metadata": {
        "id": "ICApFuKk1aqv"
      },
      "execution_count": null,
      "outputs": []
    },
    {
      "cell_type": "code",
      "source": [
        "#215 \n",
        "def smile(x):\n",
        "    print(x,\":D\")\n",
        "\n",
        "smile(\"전덕배입니다\")"
      ],
      "metadata": {
        "id": "EfhqLEOq1atM",
        "colab": {
          "base_uri": "https://localhost:8080/"
        },
        "outputId": "8d745043-fc2d-4fb0-9c29-4c183b7ef0e1"
      },
      "execution_count": null,
      "outputs": [
        {
          "output_type": "stream",
          "name": "stdout",
          "text": [
            "전덕배입니다 :D\n"
          ]
        }
      ]
    },
    {
      "cell_type": "code",
      "source": [
        "#216\n",
        "x=\"안녕하세요\"\n",
        "smile(x)\n"
      ],
      "metadata": {
        "id": "qdO-yFus1avz",
        "colab": {
          "base_uri": "https://localhost:8080/"
        },
        "outputId": "3d26b839-f1cb-4e1e-9c60-5eaf9f01d4c0"
      },
      "execution_count": null,
      "outputs": [
        {
          "output_type": "stream",
          "name": "stdout",
          "text": [
            "안녕하세요 :D\n"
          ]
        }
      ]
    },
    {
      "cell_type": "code",
      "source": [
        "#217\n",
        "def print_upper_price(price):\n",
        "    print(price*1.3)"
      ],
      "metadata": {
        "id": "Wrm6-TrL1aya"
      },
      "execution_count": null,
      "outputs": []
    },
    {
      "cell_type": "code",
      "source": [
        "#218\n",
        "def print_sum(a,b):\n",
        "    print(a+b)\n",
        "\n",
        "\n",
        "print_sum(5,4)"
      ],
      "metadata": {
        "id": "0QIzgT_t1a0u",
        "colab": {
          "base_uri": "https://localhost:8080/"
        },
        "outputId": "e254571a-ad99-492a-86e9-be8b060a7ee6"
      },
      "execution_count": null,
      "outputs": [
        {
          "output_type": "stream",
          "name": "stdout",
          "text": [
            "9\n"
          ]
        }
      ]
    },
    {
      "cell_type": "code",
      "source": [
        "#219\n",
        "def toto(a, b):\n",
        "    print(a, \"+\", b, \"=\", a + b)\n",
        "    print(a, \"-\", b, \"=\", a - b)\n",
        "    print(a, \"*\", b, \"=\", a * b)\n",
        "    print(a, \"/\", b, \"=\", a / b)\n",
        "\n",
        "toto(3,4)"
      ],
      "metadata": {
        "id": "ZFXZchj11a3S",
        "colab": {
          "base_uri": "https://localhost:8080/"
        },
        "outputId": "00b5b187-17bd-4625-af20-d2dd1c2e3cfb"
      },
      "execution_count": null,
      "outputs": [
        {
          "output_type": "stream",
          "name": "stdout",
          "text": [
            "3 + 4 = 7\n",
            "3 - 4 = -1\n",
            "3 * 4 = 12\n",
            "3 / 4 = 0.75\n"
          ]
        }
      ]
    },
    {
      "cell_type": "code",
      "source": [
        "#220 \n",
        "\n",
        "def print_max(a, b, c) :\n",
        "    max_val = 0 #total 초기값설정\n",
        "    if a > max_val : #a가 0보다크면\n",
        "        max_val = a  #max_val 에 a를넣어\n",
        "    if b > max_val : #b가 a보다큰가?\n",
        "        max_val = b #b를넣어\n",
        "    if c > max_val :\n",
        "        max_val = c\n",
        "    print(max_val)\n",
        "\n",
        "print_max(52,25,62)"
      ],
      "metadata": {
        "id": "hPUtdZN01a5f",
        "colab": {
          "base_uri": "https://localhost:8080/"
        },
        "outputId": "cc089d80-26ab-4042-e307-ab114d47c82e"
      },
      "execution_count": null,
      "outputs": [
        {
          "output_type": "stream",
          "name": "stdout",
          "text": [
            "62\n"
          ]
        }
      ]
    },
    {
      "cell_type": "code",
      "source": [
        "#221\n",
        "def reverse(x):\n",
        "    print(x[::-1])\n",
        "\n",
        "reverse(\"python\")"
      ],
      "metadata": {
        "id": "VaK_0Fjt1a74",
        "colab": {
          "base_uri": "https://localhost:8080/"
        },
        "outputId": "bfe74564-189e-4c5b-e6c6-166f59544159"
      },
      "execution_count": null,
      "outputs": [
        {
          "output_type": "stream",
          "name": "stdout",
          "text": [
            "nohtyp\n"
          ]
        }
      ]
    },
    {
      "cell_type": "code",
      "source": [
        "#222\n",
        "\n",
        "def score(score_list):\n",
        "    print(sum(score_list)/len(score_list))\n",
        "\n"
      ],
      "metadata": {
        "id": "zS7E1aWY1a-M"
      },
      "execution_count": null,
      "outputs": []
    },
    {
      "cell_type": "code",
      "source": [
        "#223\n",
        "def print_even (my_list) :\n",
        "    for v in my_list :\n",
        "        if v % 2 == 0 :\n",
        "            print(v)"
      ],
      "metadata": {
        "id": "a0yX7wsM1bAh"
      },
      "execution_count": null,
      "outputs": []
    },
    {
      "cell_type": "code",
      "source": [
        "#224\n",
        "print_keys={\"이름\":\"김말똥\", \"나이\":30, \"성별\":0}\n",
        "\n",
        "def print_keys(dic):\n",
        "    for keys in dic.keys():\n",
        "        print(keys)\n"
      ],
      "metadata": {
        "id": "-M2gzeGc1bCv"
      },
      "execution_count": null,
      "outputs": []
    },
    {
      "cell_type": "code",
      "source": [
        "#225\n",
        "my_dict = {\"10/26\" : [100, 130, 100, 100],\n",
        "           \"10/27\" : [10, 12, 10, 11]}\n",
        "\n",
        "def print_value_by_key (my_dict, key) :\n",
        "    print(my_dict[key])"
      ],
      "metadata": {
        "id": "UTSMsadq1bHd"
      },
      "execution_count": null,
      "outputs": []
    },
    {
      "cell_type": "code",
      "source": [
        "#226\n",
        "def p5xn(mystr):\n",
        "    times = len(mystr)/ 5 #2.2\n",
        "    times = int(times)    #2\n",
        "\n",
        "    for i in range(times):\n",
        "        print(mystr[5*i:5*i+5])\n",
        "\n",
        "p5xn(\"안녕하세요김덕배입니다\")"
      ],
      "metadata": {
        "id": "5ezS1Cxz1bKb",
        "colab": {
          "base_uri": "https://localhost:8080/"
        },
        "outputId": "70ffc450-3352-4cb1-cb08-9b17e7cd2437"
      },
      "execution_count": null,
      "outputs": [
        {
          "output_type": "stream",
          "name": "stdout",
          "text": [
            "안녕하세요\n",
            "김덕배입니\n"
          ]
        }
      ]
    },
    {
      "cell_type": "code",
      "source": [
        "#227\n",
        "def print_mxn(line, num):\n",
        "    chunk_num = int(len(line) / num)\n",
        "    for x in range(chunk_num + 1) :\n",
        "        print(line[x * num: x * num + num])"
      ],
      "metadata": {
        "id": "Ntj58sc_jj7E"
      },
      "execution_count": null,
      "outputs": []
    },
    {
      "cell_type": "code",
      "source": [
        "\n",
        "#228\n",
        "def print_mxn(line, num):\n",
        "    chunk_num = int(len(line) / num)\n",
        "    for x in range(chunk_num + 1) :\n",
        "        print(line[x * num: x * num + num])"
      ],
      "metadata": {
        "id": "rGFAgtgAe6YD"
      },
      "execution_count": null,
      "outputs": []
    },
    {
      "cell_type": "code",
      "source": [
        "\n",
        "#229\n",
        "def calc_monthly_salary(annual_pay) :\n",
        "    monthly_pay = int(annual_pay / 12)\n",
        "    return monthly_pay"
      ],
      "metadata": {
        "id": "iNUDKJmDhZzA"
      },
      "execution_count": null,
      "outputs": []
    },
    {
      "cell_type": "code",
      "source": [
        "\n",
        "#230\n",
        "def my_print (a, b) :\n",
        "    print(\"왼쪽:\", a)\n",
        "    print(\"오른쪽:\", b)\n",
        "\n",
        "my_print(a=100, b=200)"
      ],
      "metadata": {
        "colab": {
          "base_uri": "https://localhost:8080/"
        },
        "id": "2hiuOZHrjoeX",
        "outputId": "9c282777-2212-4986-a5f1-14fdb9510b4b"
      },
      "execution_count": null,
      "outputs": [
        {
          "output_type": "stream",
          "name": "stdout",
          "text": [
            "왼쪽: 100\n",
            "오른쪽: 200\n"
          ]
        }
      ]
    },
    {
      "cell_type": "code",
      "source": [
        "#231\n",
        "def n_plus_1 (n) :\n",
        "    result = n + 1\n",
        "    return result\n",
        "n_plus_1(3)\n",
        "\n"
      ],
      "metadata": {
        "colab": {
          "base_uri": "https://localhost:8080/"
        },
        "id": "M81d6aevjvW8",
        "outputId": "fe27a4be-3a87-411b-cfda-e90f017aa58a"
      },
      "execution_count": null,
      "outputs": [
        {
          "output_type": "execute_result",
          "data": {
            "text/plain": [
              "4"
            ]
          },
          "metadata": {},
          "execution_count": 37
        }
      ]
    },
    {
      "cell_type": "code",
      "source": [
        "#232\n",
        "def www(m):\n",
        "    print(\"www.\"+m+\".com\")\n",
        "\n",
        "www('naver')"
      ],
      "metadata": {
        "colab": {
          "base_uri": "https://localhost:8080/"
        },
        "id": "gMOI9ELrkYnU",
        "outputId": "a1d32f09-0b18-4171-c25d-cdb71844d438"
      },
      "execution_count": null,
      "outputs": [
        {
          "output_type": "stream",
          "name": "stdout",
          "text": [
            "www.naver.com\n"
          ]
        }
      ]
    },
    {
      "cell_type": "code",
      "source": [
        "#233\n",
        "#리스트는 걍 넣으면 다 쪼개줌\n",
        "def make_list (string) :\n",
        "    return list(string)\n",
        "\n",
        "make_list(\"김덕배입니다\")"
      ],
      "metadata": {
        "colab": {
          "base_uri": "https://localhost:8080/"
        },
        "id": "Hjp3Re5jk5FS",
        "outputId": "db60cee5-f259-4cfd-dfde-3deed9115135"
      },
      "execution_count": null,
      "outputs": [
        {
          "output_type": "execute_result",
          "data": {
            "text/plain": [
              "['김', '덕', '배', '입', '니', '다']"
            ]
          },
          "metadata": {},
          "execution_count": 42
        }
      ]
    },
    {
      "cell_type": "code",
      "source": [
        "#234\n",
        "\n",
        "\n",
        "def pickup_even(items):\n",
        "    result = []\n",
        "    for item in items:\n",
        "        if item % 2 == 0:\n",
        "            result.append(item)\n",
        "    return result\n",
        "x=[111,345,60,70]\n",
        "pickup_even(x)"
      ],
      "metadata": {
        "colab": {
          "base_uri": "https://localhost:8080/"
        },
        "id": "Pqfq0saKlVTb",
        "outputId": "e6a24d78-a6ec-46df-85d7-8609da1d1cbd"
      },
      "execution_count": null,
      "outputs": [
        {
          "output_type": "execute_result",
          "data": {
            "text/plain": [
              "[60, 70]"
            ]
          },
          "metadata": {},
          "execution_count": 44
        }
      ]
    },
    {
      "cell_type": "code",
      "source": [
        "#235\n",
        "\n",
        "def conver_int(x):\n",
        "    tot= int(x.replace(',',''))\n",
        "    return tot\n",
        "\n",
        "conver_int(\"123,456,123\")\n"
      ],
      "metadata": {
        "colab": {
          "base_uri": "https://localhost:8080/"
        },
        "id": "9WVr41cxlmH5",
        "outputId": "cfeabf19-6166-424b-9d77-484819ebad98"
      },
      "execution_count": null,
      "outputs": [
        {
          "output_type": "execute_result",
          "data": {
            "text/plain": [
              "123456123"
            ]
          },
          "metadata": {},
          "execution_count": 49
        }
      ]
    },
    {
      "cell_type": "code",
      "source": [
        "#236\n",
        "def 함수(num) :\n",
        "    return num + 4\n",
        "\n",
        "a = 함수(10)\n",
        "b = 함수(a)\n",
        "c = 함수(b)\n",
        "print(c)"
      ],
      "metadata": {
        "colab": {
          "base_uri": "https://localhost:8080/"
        },
        "id": "LY0YTWzFmNrN",
        "outputId": "989a76b9-95a7-4c28-dcce-e0af3a6733d6"
      },
      "execution_count": null,
      "outputs": [
        {
          "output_type": "stream",
          "name": "stdout",
          "text": [
            "22\n"
          ]
        }
      ]
    },
    {
      "cell_type": "code",
      "source": [
        "#237\n",
        "def 함수(num) :\n",
        "    return num + 4\n",
        "\n",
        "c = 함수(함수(함수(10)))\n",
        "print(c)"
      ],
      "metadata": {
        "colab": {
          "base_uri": "https://localhost:8080/"
        },
        "id": "rpKVvh3ZmrKQ",
        "outputId": "66bf2f17-2ea7-4e4a-f2e8-29a1d947f3c8"
      },
      "execution_count": null,
      "outputs": [
        {
          "output_type": "stream",
          "name": "stdout",
          "text": [
            "22\n"
          ]
        }
      ]
    },
    {
      "cell_type": "code",
      "source": [
        "#238\n",
        "def 함수1(num) :\n",
        "    return num + 4\n",
        "\n",
        "def 함수2(num) :\n",
        "    return num * 10\n",
        "\n",
        "a = 함수1(10)\n",
        "c = 함수2(a)\n",
        "print(c)"
      ],
      "metadata": {
        "colab": {
          "base_uri": "https://localhost:8080/"
        },
        "id": "z0seeMNlm2tD",
        "outputId": "9e2b2e58-a8c6-4d2f-8ae4-4841adc09334"
      },
      "execution_count": null,
      "outputs": [
        {
          "output_type": "stream",
          "name": "stdout",
          "text": [
            "140\n"
          ]
        }
      ]
    },
    {
      "cell_type": "code",
      "source": [
        "#239\n",
        "def 함수1(num) :\n",
        "    return num + 4\n",
        "\n",
        "def 함수2(num) :\n",
        "    num = num + 2\n",
        "    return 함수1(num)\n",
        "\n",
        "c = 함수2(10)\n",
        "print(c)"
      ],
      "metadata": {
        "colab": {
          "base_uri": "https://localhost:8080/"
        },
        "id": "-jvBzPv3m8jk",
        "outputId": "02a72378-d955-478f-a780-472687e86684"
      },
      "execution_count": null,
      "outputs": [
        {
          "output_type": "stream",
          "name": "stdout",
          "text": [
            "16\n"
          ]
        }
      ]
    },
    {
      "cell_type": "code",
      "source": [
        "#240\n",
        "def 함수0(num) :\n",
        "    return num * 2\n",
        "\n",
        "def 함수1(num) :\n",
        "    return 함수0(num + 2)\n",
        "\n",
        "def 함수2(num) :\n",
        "    num = num + 10\n",
        "    return 함수1(num)\n",
        "\n",
        "c = 함수2(2)\n",
        "print(c)"
      ],
      "metadata": {
        "colab": {
          "base_uri": "https://localhost:8080/"
        },
        "id": "3i62G7ffnGy5",
        "outputId": "6f2b0a39-ba23-4e26-e9be-33c5a57ed13a"
      },
      "execution_count": null,
      "outputs": [
        {
          "output_type": "stream",
          "name": "stdout",
          "text": [
            "28\n"
          ]
        }
      ]
    },
    {
      "cell_type": "code",
      "source": [
        "#241\n",
        "import datetime\n",
        "now = datetime.datetime.now()\n",
        "print(now)"
      ],
      "metadata": {
        "colab": {
          "base_uri": "https://localhost:8080/"
        },
        "id": "W7h6l5Ecnew6",
        "outputId": "91ba6a21-50b1-4540-c4d6-c9514c6886fb"
      },
      "execution_count": null,
      "outputs": [
        {
          "output_type": "stream",
          "name": "stdout",
          "text": [
            "2022-11-19 06:41:19.531403\n"
          ]
        }
      ]
    },
    {
      "cell_type": "code",
      "source": [
        "print(now, type(now))"
      ],
      "metadata": {
        "colab": {
          "base_uri": "https://localhost:8080/"
        },
        "id": "2EYtl4C-nizV",
        "outputId": "84e9d0f8-c1a5-4d9c-b0f0-be1464e7f979"
      },
      "execution_count": null,
      "outputs": [
        {
          "output_type": "stream",
          "name": "stdout",
          "text": [
            "2022-11-19 06:41:19.531403 <class 'datetime.datetime'>\n"
          ]
        }
      ]
    },
    {
      "cell_type": "code",
      "source": [
        "#243 timedelta \n",
        "\n",
        "now = datetime.datetime.now()\n",
        "\n",
        "for day in range(5, 0, -1):\n",
        "    delta = datetime.timedelta(days=day)\n",
        "    date = now - delta\n",
        "    print(date)"
      ],
      "metadata": {
        "colab": {
          "base_uri": "https://localhost:8080/"
        },
        "id": "WqkRdEdenzFW",
        "outputId": "7bc9a64c-11d3-4e5b-bb55-7481530553e5"
      },
      "execution_count": null,
      "outputs": [
        {
          "output_type": "stream",
          "name": "stdout",
          "text": [
            "2022-11-14 06:42:31.052558\n",
            "2022-11-15 06:42:31.052558\n",
            "2022-11-16 06:42:31.052558\n",
            "2022-11-17 06:42:31.052558\n",
            "2022-11-18 06:42:31.052558\n"
          ]
        }
      ]
    },
    {
      "cell_type": "code",
      "source": [
        "#244 strftime \n",
        "% 를 써줘야함\n",
        "now = datetime.datetime.now()\n",
        "print(now.strftime(\"%H:%M:%S\"))"
      ],
      "metadata": {
        "colab": {
          "base_uri": "https://localhost:8080/"
        },
        "id": "YWwy_RyKn4ao",
        "outputId": "acff25de-d4f3-4e86-e3d8-895344f27845"
      },
      "execution_count": null,
      "outputs": [
        {
          "output_type": "stream",
          "name": "stdout",
          "text": [
            "06:44:35\n"
          ]
        }
      ]
    },
    {
      "cell_type": "code",
      "source": [
        "#245\n",
        "import datetime\n",
        "\n",
        "day = \"2022-11-19\"\n",
        "ret = datetime.datetime.strptime(day, \"%Y-%m-%d\")\n",
        "print(ret, type(ret))"
      ],
      "metadata": {
        "colab": {
          "base_uri": "https://localhost:8080/"
        },
        "id": "fmFutLQ8oXvc",
        "outputId": "86e7e344-49e3-46aa-c544-45db69ca4555"
      },
      "execution_count": null,
      "outputs": [
        {
          "output_type": "stream",
          "name": "stdout",
          "text": [
            "2022-11-19 00:00:00 <class 'datetime.datetime'>\n"
          ]
        }
      ]
    },
    {
      "cell_type": "code",
      "source": [
        "#246\n",
        "import time\n",
        "import datetime\n",
        "\n",
        "while True:\n",
        "    now = datetime.datetime.now()\n",
        "    print(now.strftime(\"%H:%M:%S\"))\n",
        "    time.sleep(1)\n"
      ],
      "metadata": {
        "colab": {
          "base_uri": "https://localhost:8080/",
          "height": 259
        },
        "id": "EoWkx6inokT0",
        "outputId": "090294da-1e4c-471f-a5f5-c9da8908abf1"
      },
      "execution_count": null,
      "outputs": [
        {
          "output_type": "stream",
          "name": "stdout",
          "text": [
            "06:47:38\n",
            "06:47:39\n",
            "06:47:40\n"
          ]
        },
        {
          "output_type": "error",
          "ename": "KeyboardInterrupt",
          "evalue": "ignored",
          "traceback": [
            "\u001b[0;31m---------------------------------------------------------------------------\u001b[0m",
            "\u001b[0;31mKeyboardInterrupt\u001b[0m                         Traceback (most recent call last)",
            "\u001b[0;32m<ipython-input-71-c47c0ed3c77b>\u001b[0m in \u001b[0;36m<module>\u001b[0;34m\u001b[0m\n\u001b[1;32m      6\u001b[0m     \u001b[0mnow\u001b[0m \u001b[0;34m=\u001b[0m \u001b[0mdatetime\u001b[0m\u001b[0;34m.\u001b[0m\u001b[0mdatetime\u001b[0m\u001b[0;34m.\u001b[0m\u001b[0mnow\u001b[0m\u001b[0;34m(\u001b[0m\u001b[0;34m)\u001b[0m\u001b[0;34m\u001b[0m\u001b[0;34m\u001b[0m\u001b[0m\n\u001b[1;32m      7\u001b[0m     \u001b[0mprint\u001b[0m\u001b[0;34m(\u001b[0m\u001b[0mnow\u001b[0m\u001b[0;34m.\u001b[0m\u001b[0mstrftime\u001b[0m\u001b[0;34m(\u001b[0m\u001b[0;34m\"%H:%M:%S\"\u001b[0m\u001b[0;34m)\u001b[0m\u001b[0;34m)\u001b[0m\u001b[0;34m\u001b[0m\u001b[0;34m\u001b[0m\u001b[0m\n\u001b[0;32m----> 8\u001b[0;31m     \u001b[0mtime\u001b[0m\u001b[0;34m.\u001b[0m\u001b[0msleep\u001b[0m\u001b[0;34m(\u001b[0m\u001b[0;36m1\u001b[0m\u001b[0;34m)\u001b[0m\u001b[0;34m\u001b[0m\u001b[0;34m\u001b[0m\u001b[0m\n\u001b[0m",
            "\u001b[0;31mKeyboardInterrupt\u001b[0m: "
          ]
        }
      ]
    },
    {
      "cell_type": "code",
      "source": [
        "#247"
      ],
      "metadata": {
        "id": "9m8NOWYno6ol"
      },
      "execution_count": null,
      "outputs": []
    },
    {
      "cell_type": "code",
      "source": [
        "#248\n",
        "import os\n",
        "ret = os.getcwd()\n",
        "print(ret, type(ret))\n"
      ],
      "metadata": {
        "colab": {
          "base_uri": "https://localhost:8080/"
        },
        "id": "JphnUhT8paN6",
        "outputId": "13524224-b6bf-4783-c499-b0b4623d8836"
      },
      "execution_count": null,
      "outputs": [
        {
          "output_type": "stream",
          "name": "stdout",
          "text": [
            "/content <class 'str'>\n"
          ]
        }
      ]
    },
    {
      "cell_type": "code",
      "source": [
        "#249\n",
        "import os\n",
        "os.rename(\"C:/Users/hyunh/Desktop/before.txt\", \"C:/Users/hyunh/Desktop/after.txt\")"
      ],
      "metadata": {
        "colab": {
          "base_uri": "https://localhost:8080/",
          "height": 223
        },
        "id": "BeCycL63pb9X",
        "outputId": "15be14ec-84dd-4545-b4b5-649455479dac"
      },
      "execution_count": null,
      "outputs": [
        {
          "output_type": "error",
          "ename": "FileNotFoundError",
          "evalue": "ignored",
          "traceback": [
            "\u001b[0;31m---------------------------------------------------------------------------\u001b[0m",
            "\u001b[0;31mFileNotFoundError\u001b[0m                         Traceback (most recent call last)",
            "\u001b[0;32m<ipython-input-74-7da193e4fa87>\u001b[0m in \u001b[0;36m<module>\u001b[0;34m\u001b[0m\n\u001b[1;32m      1\u001b[0m \u001b[0;31m#249\u001b[0m\u001b[0;34m\u001b[0m\u001b[0;34m\u001b[0m\u001b[0;34m\u001b[0m\u001b[0m\n\u001b[1;32m      2\u001b[0m \u001b[0;32mimport\u001b[0m \u001b[0mos\u001b[0m\u001b[0;34m\u001b[0m\u001b[0;34m\u001b[0m\u001b[0m\n\u001b[0;32m----> 3\u001b[0;31m \u001b[0mos\u001b[0m\u001b[0;34m.\u001b[0m\u001b[0mrename\u001b[0m\u001b[0;34m(\u001b[0m\u001b[0;34m\"C:/Users/hyunh/Desktop/before.txt\"\u001b[0m\u001b[0;34m,\u001b[0m \u001b[0;34m\"C:/Users/hyunh/Desktop/after.txt\"\u001b[0m\u001b[0;34m)\u001b[0m\u001b[0;34m\u001b[0m\u001b[0;34m\u001b[0m\u001b[0m\n\u001b[0m",
            "\u001b[0;31mFileNotFoundError\u001b[0m: [Errno 2] No such file or directory: 'C:/Users/hyunh/Desktop/before.txt' -> 'C:/Users/hyunh/Desktop/after.txt'"
          ]
        }
      ]
    },
    {
      "cell_type": "code",
      "source": [
        "#250\n",
        "import numpy as np\n",
        "\n",
        "for i in np.arange(0, 5, 0.1):\n",
        "    print(i)"
      ],
      "metadata": {
        "colab": {
          "base_uri": "https://localhost:8080/"
        },
        "id": "5Y55Gs9wpnnm",
        "outputId": "007babb7-dcd1-4bd4-a966-93591b419d0d"
      },
      "execution_count": null,
      "outputs": [
        {
          "output_type": "stream",
          "name": "stdout",
          "text": [
            "0.0\n",
            "0.1\n",
            "0.2\n",
            "0.30000000000000004\n",
            "0.4\n",
            "0.5\n",
            "0.6000000000000001\n",
            "0.7000000000000001\n",
            "0.8\n",
            "0.9\n",
            "1.0\n",
            "1.1\n",
            "1.2000000000000002\n",
            "1.3\n",
            "1.4000000000000001\n",
            "1.5\n",
            "1.6\n",
            "1.7000000000000002\n",
            "1.8\n",
            "1.9000000000000001\n",
            "2.0\n",
            "2.1\n",
            "2.2\n",
            "2.3000000000000003\n",
            "2.4000000000000004\n",
            "2.5\n",
            "2.6\n",
            "2.7\n",
            "2.8000000000000003\n",
            "2.9000000000000004\n",
            "3.0\n",
            "3.1\n",
            "3.2\n",
            "3.3000000000000003\n",
            "3.4000000000000004\n",
            "3.5\n",
            "3.6\n",
            "3.7\n",
            "3.8000000000000003\n",
            "3.9000000000000004\n",
            "4.0\n",
            "4.1000000000000005\n",
            "4.2\n",
            "4.3\n",
            "4.4\n",
            "4.5\n",
            "4.6000000000000005\n",
            "4.7\n",
            "4.800000000000001\n",
            "4.9\n"
          ]
        }
      ]
    },
    {
      "cell_type": "code",
      "source": [
        "#251\n",
        "#클래스 : 주로 어떤 틀에 비유됩니다. 즉, 똑같은 무엇을 계속 만들어 내는 것에 비유됩니다. 그 이유는 클래스는 객체(object)를 정의하고 만들기 위한 변수와 메서드의 집합이기 때문입니다.\n",
        "#객체 : 객체는 프로그램에서 구현할 대상입니다. 클래스의 정의대로 만들어진 실체입니다. 인스턴스는 설계도를 바탕으로 프로그램에서 구현된 구체적인 실체를 말합니다\n",
        "#인스턴스 :클래스에 의해서 만들어진 객체를 인스턴스(instance)라고도 합니다"
      ],
      "metadata": {
        "id": "pUY0nhPop5AO"
      },
      "execution_count": null,
      "outputs": []
    },
    {
      "cell_type": "code",
      "source": [
        "#252\n",
        "class Human:\n",
        "    pass"
      ],
      "metadata": {
        "id": "Qykfjtc-rMkg"
      },
      "execution_count": null,
      "outputs": []
    },
    {
      "cell_type": "code",
      "source": [
        "class Human:\n",
        "    \n",
        "    def __init__(self):\n",
        "        print('응애응애')\n",
        "\n",
        "\n",
        "eung = Human()\n"
      ],
      "metadata": {
        "colab": {
          "base_uri": "https://localhost:8080/"
        },
        "id": "AtlHPTASsrRR",
        "outputId": "5a7446de-cbbf-43ba-dad6-6dbbf7039393"
      },
      "execution_count": null,
      "outputs": [
        {
          "output_type": "stream",
          "name": "stdout",
          "text": [
            "응애응애\n"
          ]
        }
      ]
    },
    {
      "cell_type": "code",
      "source": [
        "#253\n",
        "class Human:\n",
        "    pass\n",
        "\n",
        "\n",
        "areum = Human()\n",
        "\n"
      ],
      "metadata": {
        "id": "duNk1xYxrhe9"
      },
      "execution_count": null,
      "outputs": []
    },
    {
      "cell_type": "code",
      "source": [
        "#254\n",
        "class Human:\n",
        "    def __init__(self,name,age,sex):\n",
        "        self.name=name\n",
        "        self.age=age\n",
        "        self.sex=sex\n",
        "\n",
        "areum = Human(\"이름\",25,'여자')\n",
        "\n",
        "print(areum.name)"
      ],
      "metadata": {
        "colab": {
          "base_uri": "https://localhost:8080/"
        },
        "id": "95OhDBE0r0nZ",
        "outputId": "fb8b22a6-5d8b-49a3-842a-b696a88eaf2b"
      },
      "execution_count": null,
      "outputs": [
        {
          "output_type": "stream",
          "name": "stdout",
          "text": [
            "이름\n"
          ]
        }
      ]
    },
    {
      "cell_type": "code",
      "source": [
        "#255\n",
        "areum.age"
      ],
      "metadata": {
        "colab": {
          "base_uri": "https://localhost:8080/"
        },
        "id": "wGW4oo2Br-P9",
        "outputId": "4337e187-7514-47ed-e41b-b7065985443f"
      },
      "execution_count": null,
      "outputs": [
        {
          "output_type": "execute_result",
          "data": {
            "text/plain": [
              "25"
            ]
          },
          "metadata": {},
          "execution_count": 7
        }
      ]
    },
    {
      "cell_type": "code",
      "source": [
        "#257\n",
        "class Human:\n",
        "    def __init__(self,name,age,sex):\n",
        "        self.name=name\n",
        "        self.age=age\n",
        "        self.sex=sex\n",
        "    def who(self):\n",
        "        print(\"이름: {} 나이: {} 성별: {}\".format(self.name, self.age, self.sex))\n",
        "\n",
        "areum = Human('아름',25,'여자')\n",
        "areum.who()"
      ],
      "metadata": {
        "colab": {
          "base_uri": "https://localhost:8080/"
        },
        "id": "ROcAfbGxvKZT",
        "outputId": "d700076b-3d98-4770-8da9-a3597c067093"
      },
      "execution_count": null,
      "outputs": [
        {
          "output_type": "stream",
          "name": "stdout",
          "text": [
            "이름: 아름 나이: 25 성별: 여자\n"
          ]
        }
      ]
    },
    {
      "cell_type": "code",
      "source": [
        "#258\n",
        "class Human:\n",
        "    def __init__(self, name, age, sex):\n",
        "        self.name = name\n",
        "        self.age = age\n",
        "        self.sex = sex\n",
        "\n",
        "    def who(self):\n",
        "        print(\"이름: {} 나이: {} 성별: {}\".format(self.name, self.age, self.sex))\n",
        "\n",
        "    def setInfo(self, name, age, sex):\n",
        "        self.name = name\n",
        "        self.age = age\n",
        "        self.sex = sex\n",
        "\n",
        "\n",
        "areum = Human(\"불명\", \"미상\", \"모름\")\n",
        "areum.who()      # Human.who(areum)\n",
        "\n",
        "areum.setInfo(\"아름\", 25, \"여자\")\n",
        "areum.who()      # Human.who(areum)"
      ],
      "metadata": {
        "id": "gaHMYF0Dvixc"
      },
      "execution_count": null,
      "outputs": []
    },
    {
      "cell_type": "code",
      "source": [
        "#259\n",
        "class Human:\n",
        "    def __init__(self, name, age, sex):\n",
        "        self.name = name\n",
        "        self.age = age\n",
        "        self.sex = sex\n",
        "\n",
        "    def __del__(self):\n",
        "        print(\"나의 죽음을 알리지마라\")\n",
        "\n",
        "    def who(self):\n",
        "        print(\"이름: {} 나이: {} 성별: {}\".format(self.name, self.age, self.sex))\n",
        "\n",
        "    def setInfo(self, name, age, sex):\n",
        "        self.name = name\n",
        "        self.age = age\n",
        "        self.sex = sex\n",
        "\n",
        "areum = Human(\"아름\", 25, \"여자\")\n",
        "del(areum)\n"
      ],
      "metadata": {
        "id": "jarUkGcB7ZHb"
      },
      "execution_count": null,
      "outputs": []
    },
    {
      "cell_type": "code",
      "source": [
        "#260\n",
        "class OMG :\n",
        "    def print() :\n",
        "        print(\"Oh my god\")\n",
        "\n",
        "\n",
        "mystock = OMG()\n",
        "OMG.print()      # OMG.print(mystock)\n",
        "        "
      ],
      "metadata": {
        "colab": {
          "base_uri": "https://localhost:8080/"
        },
        "id": "l4mCm6Z47ZJ_",
        "outputId": "0b540113-fff8-4e6c-8fec-8d75e5af6e0c"
      },
      "execution_count": null,
      "outputs": [
        {
          "output_type": "stream",
          "name": "stdout",
          "text": [
            "Oh my god\n"
          ]
        }
      ]
    },
    {
      "cell_type": "code",
      "source": [
        "#261\n",
        "class Stock:\n",
        "    pass"
      ],
      "metadata": {
        "id": "StYAaoXj7ZMl"
      },
      "execution_count": null,
      "outputs": []
    },
    {
      "cell_type": "code",
      "source": [
        "#262\n",
        "class Stock:\n",
        "    def __init__(self,name,code):\n",
        "        self.name = name\n",
        "        self.code = code\n",
        "\n",
        "삼성 = Stock(\"삼성전자\",\"005930\")\n",
        "print(삼성.name)\n",
        "print(삼성.code)"
      ],
      "metadata": {
        "colab": {
          "base_uri": "https://localhost:8080/"
        },
        "id": "85xs1hWb7ZO_",
        "outputId": "07dded0f-bc5b-4fcf-caa2-236eecea60dc"
      },
      "execution_count": null,
      "outputs": [
        {
          "output_type": "stream",
          "name": "stdout",
          "text": [
            "삼성전자\n",
            "005930\n"
          ]
        }
      ]
    },
    {
      "cell_type": "code",
      "source": [
        "#263\n",
        "class Stock:\n",
        "    def __init__(self,name,code):\n",
        "        self.name = name\n",
        "        self.code = code\n",
        "    def set_name(self,name):\n",
        "        self.name = name\n",
        "a = Stock(None, None)\n",
        "a.set_name('삼성전자')\n",
        "print(a.name)"
      ],
      "metadata": {
        "colab": {
          "base_uri": "https://localhost:8080/"
        },
        "id": "N9H3eIQz7ZRl",
        "outputId": "cc6c28d3-d21e-4ce0-9af9-2a38efc16a7f"
      },
      "execution_count": null,
      "outputs": [
        {
          "output_type": "stream",
          "name": "stdout",
          "text": [
            "삼성전자\n"
          ]
        }
      ]
    },
    {
      "cell_type": "code",
      "source": [
        "#264\n",
        "class Stock:\n",
        "    def __init__(self,name,code):\n",
        "        self.name = name\n",
        "        self.code = code\n",
        "    def set_name(self,name):\n",
        "        self.name = name\n",
        "    def set_code(self,code):\n",
        "        self.code = code\n",
        "a = Stock(None,None)\n",
        "a.set_code('005930')\n",
        "print(a.code)"
      ],
      "metadata": {
        "colab": {
          "base_uri": "https://localhost:8080/"
        },
        "id": "jZO7P-_J7ZUE",
        "outputId": "536b0657-c9cc-4879-ef29-b67cbc9111d4"
      },
      "execution_count": null,
      "outputs": [
        {
          "output_type": "stream",
          "name": "stdout",
          "text": [
            "005930\n"
          ]
        }
      ]
    },
    {
      "cell_type": "code",
      "source": [
        "#265\n",
        "class Stock:\n",
        "    def __init__(self,name,code):\n",
        "        self.name = name\n",
        "        self.code = code\n",
        "    def set_name(self,name):\n",
        "        self.name = name\n",
        "    def set_code(self,code):\n",
        "        self.code = code\n",
        "    def get_name(self):\n",
        "        return self.name\n",
        "    def get_code(self):\n",
        "        return self.code\n",
        "\n",
        "삼성 = Stock('삼성전자','005930')\n",
        "print(삼성.name)\n",
        "print(삼성.code)\n",
        "print(삼성.get_name())\n",
        "print(삼성.get_code())"
      ],
      "metadata": {
        "colab": {
          "base_uri": "https://localhost:8080/"
        },
        "id": "FSsk3JRY7ZWe",
        "outputId": "ec76eccc-97b2-4f01-a885-a17098096060"
      },
      "execution_count": null,
      "outputs": [
        {
          "output_type": "stream",
          "name": "stdout",
          "text": [
            "삼성전자\n",
            "005930\n",
            "삼성전자\n",
            "005930\n"
          ]
        }
      ]
    },
    {
      "cell_type": "code",
      "source": [
        "#266\n",
        "class Stock:\n",
        "    def __init__(self,name,code,per,pbr, 배당수익률):\n",
        "        self.name = name\n",
        "        self.code = code\n",
        "        self.per = per\n",
        "        self.pbr = pbr\n",
        "        self.배당수익률 = 배당수익률\n",
        "    def set_name(self,name):\n",
        "        self.name = name\n",
        "    def set_code(self,code):\n",
        "        self.code = code\n",
        "    def get_name(self):\n",
        "        return self.name\n",
        "    def get_code(self):\n",
        "        return self.code\n",
        "    \n",
        "\n",
        "삼성 = Stock('삼성전자','005930')\n",
        "print(삼성.name)\n",
        "print(삼성.code)\n",
        "print(삼성.get_name())\n",
        "print(삼성.get_code())"
      ],
      "metadata": {
        "id": "6HG25RO17ZZG"
      },
      "execution_count": null,
      "outputs": []
    },
    {
      "cell_type": "code",
      "source": [
        "#267   \n",
        "\n",
        "class Stock:\n",
        "    def __init__(self,name,code,per,pbr, 배당수익률):\n",
        "        self.name = name\n",
        "        self.code = code\n",
        "        self.per = per\n",
        "        self.pbr = pbr\n",
        "        self.배당수익률 = 배당수익률\n",
        "    def set_name(self,name):\n",
        "        self.name = name\n",
        "    def set_code(self,code):\n",
        "        self.code = code\n",
        "\n",
        "삼성 = Stock(\"삼성전자\",\"005930\",15.89,1.33,28.3)\n",
        "\n",
        "print(삼성.배당수익률)\n",
        "    \n"
      ],
      "metadata": {
        "id": "0_qSpKAV7Zbj",
        "colab": {
          "base_uri": "https://localhost:8080/"
        },
        "outputId": "fc74fa7c-c738-469b-e2d6-7c307d6d9bb5"
      },
      "execution_count": null,
      "outputs": [
        {
          "output_type": "stream",
          "name": "stdout",
          "text": [
            "28.3\n"
          ]
        }
      ]
    },
    {
      "cell_type": "code",
      "source": [
        "#268    \n",
        "class Stock:\n",
        "    def __init__(self,name,code,per,pbr, 배당수익률):\n",
        "        self.name = name\n",
        "        self.code = code\n",
        "        self.per = per\n",
        "        self.pbr = pbr\n",
        "        self.배당수익률 = 배당수익률\n",
        "    def set_name(self,name):\n",
        "        self.name = name\n",
        "    def set_code(self,code):\n",
        "        self.code = code\n",
        "    def set_per(self,per):\n",
        "        self.per = per\n",
        "    def set_pbr(self,pbr):\n",
        "        self.pbr = pbr\n",
        "    def set_bae(self,배당수익률):\n",
        "        self.배당수익률 = 배당수익률\n",
        "        \n",
        "\n",
        "삼성 = Stock(\"삼성전자\",\"005930\",15.89,1.33,28.3)\n",
        "\n",
        "print(삼성.배당수익률)\n",
        "    "
      ],
      "metadata": {
        "id": "GWF5ajmh7Zd-"
      },
      "execution_count": null,
      "outputs": []
    },
    {
      "cell_type": "code",
      "source": [
        "#269\n",
        "    \n",
        "class Stock:\n",
        "    def __init__(self,name,code,per,pbr, 배당수익률):\n",
        "        self.name = name\n",
        "        self.code = code\n",
        "        self.per = per\n",
        "        self.pbr = pbr\n",
        "        self.배당수익률 = 배당수익률\n",
        "    def set_name(self,name):\n",
        "        self.name = name\n",
        "    def set_code(self,code):\n",
        "        self.code = code\n",
        "    def set_per(self,per):\n",
        "        self.per = per\n",
        "    def set_pbr(self,pbr):\n",
        "        self.pbr = pbr\n",
        "    def set_bae(self,배당수익률):\n",
        "        self.배당수익률 = 배당수익률\n",
        "        \n",
        "\n",
        "삼성 = Stock(\"삼성전자\",\"005930\",15.89,1.33,28.3)\n",
        "삼성.set_per(12.75)\n",
        "print(삼성.per)"
      ],
      "metadata": {
        "id": "UiGkSMvP7Zgq",
        "colab": {
          "base_uri": "https://localhost:8080/"
        },
        "outputId": "b906f4bd-9ee3-464e-8132-797702be0b8f"
      },
      "execution_count": null,
      "outputs": [
        {
          "output_type": "stream",
          "name": "stdout",
          "text": [
            "12.75\n"
          ]
        }
      ]
    },
    {
      "cell_type": "code",
      "source": [
        "#270    \n",
        "종목=[]\n",
        "삼성 = Stock(\"삼성전자\",\"005930\",15.89,1.33,28.3)\n",
        "현대차 = Stock(\"현대차\",\"005380\",8.70,0.35,4.27)\n",
        "LG전자 = Stock(\"LG전자\",\"066570\",317.34,0.69,1.37)\n",
        "종목.append(삼성)\n",
        "종목.append(현대차)\n",
        "종목.append(LG전자)\n",
        "\n",
        "for i in 종목:\n",
        "    print(i.code,i.per)\n"
      ],
      "metadata": {
        "colab": {
          "base_uri": "https://localhost:8080/"
        },
        "id": "S2B5__mUzYBo",
        "outputId": "4e169095-21aa-444c-b8d8-6def8ff61438"
      },
      "execution_count": null,
      "outputs": [
        {
          "output_type": "stream",
          "name": "stdout",
          "text": [
            "005930 15.89\n",
            "005380 8.7\n",
            "066570 317.34\n"
          ]
        }
      ]
    },
    {
      "cell_type": "code",
      "source": [
        "#271  \n",
        "import random  \n",
        "class Account:\n",
        "    def __init__(self,name,balance):\n",
        "        self.name = name\n",
        "        self.balance = balance\n",
        "        self.bank = 'SC제일은행'\n",
        "        num1 = random.randint(0,999) #첫째 자리\n",
        "        num2 = random.randint(0,99) #둘째 자리\n",
        "        num3 = random.randint(0,999999) #셋째 자리 바운딩\n",
        "\n",
        "        num1 = str(num1).zfill(3) # zfill 함수 앞을 0으로 채움\n",
        "        num2 = str(num2).zfill(2)\n",
        "        num3 = str(num3).zfill(6)\n",
        "        self.account_number = num1 + '-' + num2 + '-' + num3 #001-01-000001\n",
        "\n",
        "kim = Account(\"김민수\",7500000)\n",
        "print(kim.name)\n",
        "print(kim.balance)\n",
        "print(kim.bank)\n",
        "print(kim.account_number)\n",
        "    \n"
      ],
      "metadata": {
        "colab": {
          "base_uri": "https://localhost:8080/"
        },
        "id": "2aji54H4zYD4",
        "outputId": "b72799c4-9098-41fd-b938-a605506e61d2"
      },
      "execution_count": null,
      "outputs": [
        {
          "output_type": "stream",
          "name": "stdout",
          "text": [
            "김민수\n",
            "7500000\n",
            "SC제일은행\n",
            "662-23-702680\n"
          ]
        }
      ]
    },
    {
      "cell_type": "code",
      "source": [
        "#272  \n",
        "class Account:\n",
        "    account_count = 0\n",
        "    def __init__(self,name,balance):\n",
        "        self.name = name\n",
        "        self.balance = balance\n",
        "        self.bank = 'SC제일은행'\n",
        "        num1 = random.randint(0,999) #첫째 자리\n",
        "        num2 = random.randint(0,99) #둘째 자리\n",
        "        num3 = random.randint(0,999999) #셋째 자리 바운딩\n",
        "\n",
        "        num1 = str(num1).zfill(3) # zfill 함수 앞을 0으로 채움\n",
        "        num2 = str(num2).zfill(2)\n",
        "        num3 = str(num3).zfill(6)\n",
        "        self.account_number = num1 + '-' + num2 + '-' + num3 #001-01-000001\n",
        "        \n",
        "        Account.account_count +=1\n",
        "kim = Account(\"김민수\",7500000)\n",
        "print(kim.name)\n",
        "print(kim.balance)\n",
        "print(kim.bank)\n",
        "print(kim.account_number)\n",
        "lee = Account(\"이재영\",320000)\n",
        "print(Account.account_count)"
      ],
      "metadata": {
        "colab": {
          "base_uri": "https://localhost:8080/"
        },
        "id": "jHFRTpgkzYGN",
        "outputId": "a2d14be5-ba6d-4e99-85ad-2f16d86dc2eb"
      },
      "execution_count": null,
      "outputs": [
        {
          "output_type": "stream",
          "name": "stdout",
          "text": [
            "김민수\n",
            "7500000\n",
            "SC제일은행\n",
            "860-57-440973\n",
            "2\n"
          ]
        }
      ]
    },
    {
      "cell_type": "code",
      "source": [
        "#273\n",
        "\n",
        "class Account:\n",
        "    account_count = 0\n",
        "    def __init__(self,name,balance):\n",
        "        self.name = name\n",
        "        self.balance = balance\n",
        "        self.bank = 'SC제일은행'\n",
        "        num1 = random.randint(0,999) #첫째 자리\n",
        "        num2 = random.randint(0,99) #둘째 자리\n",
        "        num3 = random.randint(0,999999) #셋째 자리 바운딩\n",
        "\n",
        "        num1 = str(num1).zfill(3) # zfill 함수 앞을 0으로 채움\n",
        "        num2 = str(num2).zfill(2)\n",
        "        num3 = str(num3).zfill(6)\n",
        "        self.account_number = num1 + '-' + num2 + '-' + num3 #001-01-000001\n",
        "        \n",
        "        Account.account_count +=1\n",
        "    def get_account_num(cls):\n",
        "        print(cls.account_count)\n",
        "\n",
        "kim = Account(\"김민수\", 100)\n",
        "lee = Account(\"이덕배\", 100)\n",
        "kim.get_account_num()\n"
      ],
      "metadata": {
        "colab": {
          "base_uri": "https://localhost:8080/"
        },
        "id": "NUBKEmBKzYIj",
        "outputId": "7d0a0119-c7f8-483c-f9bc-a3eb3517aa4c"
      },
      "execution_count": null,
      "outputs": [
        {
          "output_type": "stream",
          "name": "stdout",
          "text": [
            "2\n"
          ]
        }
      ]
    },
    {
      "cell_type": "code",
      "source": [
        "#274  #273\n",
        "\n",
        "class Account:\n",
        "    account_count = 0\n",
        "    def __init__(self,name,balance):\n",
        "        self.name = name\n",
        "        self.balance = balance\n",
        "        self.bank = 'SC제일은행'\n",
        "        num1 = random.randint(0,999) #첫째 자리\n",
        "        num2 = random.randint(0,99) #둘째 자리\n",
        "        num3 = random.randint(0,999999) #셋째 자리 바운딩\n",
        "\n",
        "        num1 = str(num1).zfill(3) # zfill 함수 앞을 0으로 채움\n",
        "        num2 = str(num2).zfill(2)\n",
        "        num3 = str(num3).zfill(6)\n",
        "        self.account_number = num1 + '-' + num2 + '-' + num3 #001-01-000001\n",
        "        \n",
        "        Account.account_count +=1\n",
        "    def get_account_num(cls):\n",
        "        print(cls.account_count)\n",
        "    def get_deposit(self, amount):\n",
        "        if amount >= 1:\n",
        "            self.balance+=amount\n",
        "        \n",
        "\n",
        "kim = Account(\"김민수\", 100)\n",
        "lee = Account(\"이덕배\", 100)\n",
        "\n",
        "kim.get_deposit(500)\n",
        "print(kim.balance)"
      ],
      "metadata": {
        "colab": {
          "base_uri": "https://localhost:8080/"
        },
        "id": "B2VatLTBzYK7",
        "outputId": "e6d51793-a351-4bb3-a91f-d4af99aba29d"
      },
      "execution_count": null,
      "outputs": [
        {
          "output_type": "stream",
          "name": "stdout",
          "text": [
            "600\n"
          ]
        }
      ]
    },
    {
      "cell_type": "code",
      "source": [
        "#275 \n",
        "\n",
        "class Account:\n",
        "    account_count = 0\n",
        "    def __init__(self,name,balance):\n",
        "        self.name = name\n",
        "        self.balance = balance\n",
        "        self.bank = 'SC제일은행'\n",
        "        num1 = random.randint(0,999) #첫째 자리\n",
        "        num2 = random.randint(0,99) #둘째 자리\n",
        "        num3 = random.randint(0,999999) #셋째 자리 바운딩\n",
        "\n",
        "        num1 = str(num1).zfill(3) # zfill 함수 앞을 0으로 채움\n",
        "        num2 = str(num2).zfill(2)\n",
        "        num3 = str(num3).zfill(6)\n",
        "        self.account_number = num1 + '-' + num2 + '-' + num3 #001-01-000001\n",
        "        \n",
        "        Account.account_count +=1\n",
        "    def get_account_num(cls):\n",
        "        print(cls.account_count)\n",
        "    def get_deposit(self, amount):\n",
        "        if amount >= 1:\n",
        "            self.balance+=amount\n",
        "    def get_withdraw(self, amount):\n",
        "        if self.balance > amount:\n",
        "            self.balance -= amount\n",
        "\n",
        "        \n",
        "\n",
        "kim = Account(\"김민수\", 100)\n",
        "lee = Account(\"이덕배\", 100)\n",
        "\n",
        "kim.get_deposit(500)\n",
        "kim.get_withdraw(400)\n",
        "print(kim.balance)"
      ],
      "metadata": {
        "colab": {
          "base_uri": "https://localhost:8080/"
        },
        "id": "iM5Axw-wzYNQ",
        "outputId": "eaa66b1a-3340-419b-b8c6-379ebbdf8be4"
      },
      "execution_count": null,
      "outputs": [
        {
          "output_type": "stream",
          "name": "stdout",
          "text": [
            "200\n"
          ]
        }
      ]
    },
    {
      "cell_type": "code",
      "source": [
        "#276\n",
        "\n",
        "\n",
        "class Account:\n",
        "    account_count = 0\n",
        "    def __init__(self,name,balance):\n",
        "        self.name = name\n",
        "        self.balance = balance\n",
        "        self.bank = 'SC제일은행'\n",
        "        num1 = random.randint(0,999) #첫째 자리\n",
        "        num2 = random.randint(0,99) #둘째 자리\n",
        "        num3 = random.randint(0,999999) #셋째 자리 바운딩\n",
        "\n",
        "        num1 = str(num1).zfill(3) # zfill 함수 앞을 0으로 채움\n",
        "        num2 = str(num2).zfill(2)\n",
        "        num3 = str(num3).zfill(6)\n",
        "        self.account_number = num1 + '-' + num2 + '-' + num3 #001-01-000001\n",
        "        \n",
        "        Account.account_count +=1\n",
        "    def get_account_num(cls):\n",
        "        print(cls.account_count)\n",
        "    def get_deposit(self, amount):\n",
        "        if amount >= 1:\n",
        "            self.balance+=amount\n",
        "    def get_withdraw(self, amount):\n",
        "        if self.balance > amount:\n",
        "            self.balance -= amount\n",
        "    def display_info(self):\n",
        "        print(\"은행이름\", self.bank)\n",
        "        print(\"예금주\", self.name)\n",
        "        print(\"계좌번호\", self.account_number)\n",
        "        print(\"잔고\", f\"{self.balance:}\")\n",
        "\n",
        "p = Account(\"파이썬\",50000)\n",
        "p.display_info()"
      ],
      "metadata": {
        "colab": {
          "base_uri": "https://localhost:8080/",
          "height": 384
        },
        "id": "kqZCaMzzzYPn",
        "outputId": "70bc41e3-3197-4828-8a1e-d980a74c1f96"
      },
      "execution_count": null,
      "outputs": [
        {
          "output_type": "stream",
          "name": "stdout",
          "text": [
            "은행이름 SC제일은행\n",
            "예금주 파이썬\n",
            "계좌번호 650-38-164764\n"
          ]
        },
        {
          "output_type": "error",
          "ename": "ValueError",
          "evalue": "ignored",
          "traceback": [
            "\u001b[0;31m---------------------------------------------------------------------------\u001b[0m",
            "\u001b[0;31mValueError\u001b[0m                                Traceback (most recent call last)",
            "\u001b[0;32m<ipython-input-33-c577da6b88cb>\u001b[0m in \u001b[0;36m<module>\u001b[0;34m\u001b[0m\n\u001b[1;32m     33\u001b[0m \u001b[0;34m\u001b[0m\u001b[0m\n\u001b[1;32m     34\u001b[0m \u001b[0mp\u001b[0m \u001b[0;34m=\u001b[0m \u001b[0mAccount\u001b[0m\u001b[0;34m(\u001b[0m\u001b[0;34m\"파이썬\"\u001b[0m\u001b[0;34m,\u001b[0m\u001b[0;36m50000\u001b[0m\u001b[0;34m)\u001b[0m\u001b[0;34m\u001b[0m\u001b[0;34m\u001b[0m\u001b[0m\n\u001b[0;32m---> 35\u001b[0;31m \u001b[0mp\u001b[0m\u001b[0;34m.\u001b[0m\u001b[0mdisplay_info\u001b[0m\u001b[0;34m(\u001b[0m\u001b[0;34m)\u001b[0m\u001b[0;34m\u001b[0m\u001b[0;34m\u001b[0m\u001b[0m\n\u001b[0m",
            "\u001b[0;32m<ipython-input-33-c577da6b88cb>\u001b[0m in \u001b[0;36mdisplay_info\u001b[0;34m(self)\u001b[0m\n\u001b[1;32m     30\u001b[0m         \u001b[0mprint\u001b[0m\u001b[0;34m(\u001b[0m\u001b[0;34m\"예금주\"\u001b[0m\u001b[0;34m,\u001b[0m \u001b[0mself\u001b[0m\u001b[0;34m.\u001b[0m\u001b[0mname\u001b[0m\u001b[0;34m)\u001b[0m\u001b[0;34m\u001b[0m\u001b[0;34m\u001b[0m\u001b[0m\n\u001b[1;32m     31\u001b[0m         \u001b[0mprint\u001b[0m\u001b[0;34m(\u001b[0m\u001b[0;34m\"계좌번호\"\u001b[0m\u001b[0;34m,\u001b[0m \u001b[0mself\u001b[0m\u001b[0;34m.\u001b[0m\u001b[0maccount_number\u001b[0m\u001b[0;34m)\u001b[0m\u001b[0;34m\u001b[0m\u001b[0;34m\u001b[0m\u001b[0m\n\u001b[0;32m---> 32\u001b[0;31m         \u001b[0mprint\u001b[0m\u001b[0;34m(\u001b[0m\u001b[0;34m\"잔고\"\u001b[0m\u001b[0;34m,\u001b[0m \u001b[0;34mf\"{self.balance:'k'}\"\u001b[0m\u001b[0;34m)\u001b[0m\u001b[0;34m\u001b[0m\u001b[0;34m\u001b[0m\u001b[0m\n\u001b[0m\u001b[1;32m     33\u001b[0m \u001b[0;34m\u001b[0m\u001b[0m\n\u001b[1;32m     34\u001b[0m \u001b[0mp\u001b[0m \u001b[0;34m=\u001b[0m \u001b[0mAccount\u001b[0m\u001b[0;34m(\u001b[0m\u001b[0;34m\"파이썬\"\u001b[0m\u001b[0;34m,\u001b[0m\u001b[0;36m50000\u001b[0m\u001b[0;34m)\u001b[0m\u001b[0;34m\u001b[0m\u001b[0;34m\u001b[0m\u001b[0m\n",
            "\u001b[0;31mValueError\u001b[0m: Invalid format specifier"
          ]
        }
      ]
    },
    {
      "cell_type": "code",
      "source": [
        "#277    \n",
        "\n",
        "class Account:\n",
        "    account_count = 0\n",
        "    def __init__(self,name,balance):\n",
        "        self.name = name\n",
        "        self.balance = balance\n",
        "        self.bank = 'SC제일은행'\n",
        "        num1 = random.randint(0,999) #첫째 자리\n",
        "        num2 = random.randint(0,99) #둘째 자리\n",
        "        num3 = random.randint(0,999999) #셋째 자리 바운딩\n",
        "\n",
        "        num1 = str(num1).zfill(3) # zfill 함수 앞을 0으로 채움\n",
        "        num2 = str(num2).zfill(2)\n",
        "        num3 = str(num3).zfill(6)\n",
        "        self.account_number = num1 + '-' + num2 + '-' + num3 #001-01-000001\n",
        "        \n",
        "        Account.account_count +=1\n",
        "    def get_account_num(cls):\n",
        "        print(cls.account_count)\n",
        "    def deposit(self, amount):\n",
        "        if amount >= 1:\n",
        "            self.balance+=amount\n",
        "            self.deposit_count =+1\n",
        "            if self.deposit_count % 5 ==0:\n",
        "                self.balance = (self.balance*1.01)\n",
        "\n",
        "    def get_withdraw(self, amount):\n",
        "        if self.balance > amount:\n",
        "            self.balance -= amount\n",
        "    def display_info(self):\n",
        "        print(\"은행이름\", self.bank)\n",
        "        print(\"예금주\", self.name)\n",
        "        print(\"계좌번호\", self.account_number)\n",
        "        print(\"잔고\", f\"{self.balance:}\")\n",
        "\n",
        "p = Account(\"파이썬\",50000)\n",
        "p.deposit(10000)\n",
        "p.deposit(10000)\n",
        "p.deposit(1000)\n",
        "p.deposit(5000)\n",
        "p.deposit(10000)\n",
        "p.deposit(10000)\n",
        "p.deposit(10000)\n",
        "p.deposit(10000)\n",
        "p.deposit(10000)\n",
        "p.deposit(10000)\n",
        "p.deposit(10000)\n",
        "p.deposit(10000)\n",
        "print(p.balance)"
      ],
      "metadata": {
        "colab": {
          "base_uri": "https://localhost:8080/"
        },
        "id": "tYYuzw_rzYSR",
        "outputId": "0057b432-851f-421d-af63-8e20ede22d8f"
      },
      "execution_count": null,
      "outputs": [
        {
          "output_type": "stream",
          "name": "stdout",
          "text": [
            "156000\n"
          ]
        }
      ]
    },
    {
      "cell_type": "code",
      "source": [
        "#278  \n",
        "data = []\n",
        "k = Account('kim',100000)\n",
        "l = Account('lee',50000)\n",
        "p = Account('park', 40000)\n",
        "data.append(k)\n",
        "data.append(l)\n",
        "data.append(p)\n"
      ],
      "metadata": {
        "id": "FGEfzLl4zYUp"
      },
      "execution_count": null,
      "outputs": []
    },
    {
      "cell_type": "code",
      "source": [
        "#279\n",
        "\n",
        "data = []\n",
        "k = Account('kim',100000)\n",
        "l = Account('lee',50000)\n",
        "p = Account('park', 40000)\n",
        "data.append(k)\n",
        "data.append(l)\n",
        "data.append(p)\n",
        "\n",
        "for c in data:\n",
        "    if c.balance >= 50000:\n",
        "        c.display_info()"
      ],
      "metadata": {
        "id": "tmvFc5aFzZsR"
      },
      "execution_count": null,
      "outputs": []
    },
    {
      "cell_type": "code",
      "source": [
        "#280\n",
        "import random\n",
        "\n",
        "\n",
        "class Account:\n",
        "    # class variable\n",
        "    account_count = 0\n",
        "\n",
        "    def __init__(self, name, balance):\n",
        "        self.deposit_count = 0\n",
        "        self.deposit_log = []\n",
        "        self.withdraw_log = []\n",
        "\n",
        "        self.name = name\n",
        "        self.balance = balance\n",
        "        self.bank = \"SC은행\"\n",
        "\n",
        "        # 3-2-6\n",
        "        num1 = random.randint(0, 999)\n",
        "        num2 = random.randint(0, 99)\n",
        "        num3 = random.randint(0, 999999)\n",
        "\n",
        "        num1 = str(num1).zfill(3)  # 1 -> '1' -> '001'\n",
        "        num2 = str(num2).zfill(2)  # 1 -> '1' -> '01'\n",
        "        num3 = str(num3).zfill(6)  # 1 -> '1' -> '0000001'\n",
        "        self.account_number = num1 + '-' + num2 + '-' + num3  # 001-01-000001\n",
        "        Account.account_count += 1\n",
        "\n",
        "    @classmethod\n",
        "    def get_account_num(cls):\n",
        "        print(cls.account_count)  # Account.account_count\n",
        "\n",
        "    def deposit(self, amount):\n",
        "        if amount >= 1:\n",
        "            self.deposit_log.append(amount) #입금내역\n",
        "            self.balance += amount\n",
        "\n",
        "            self.deposit_count += 1\n",
        "            if self.deposit_count % 5 == 0:         # 5, 10, 15\n",
        "                # 이자 지금\n",
        "                self.balance = (self.balance * 1.01)\n",
        "\n",
        "\n",
        "    def withdraw(self, amount):\n",
        "        if self.balance > amount:\n",
        "            self.withdraw_log.append(amount)\n",
        "            self.balance -= amount\n",
        "\n",
        "    def display_info(self):\n",
        "        print(\"은행이름: \", self.bank)\n",
        "        print(\"예금주: \", self.name)\n",
        "        print(\"계좌번호: \", self.account_number)\n",
        "        print(\"잔고: \", self.balance)\n",
        "\n",
        "    def withdraw_history(self):\n",
        "        for amount in self.withdraw_log:\n",
        "            print(amount)\n",
        "\n",
        "    def deposit_history(self):\n",
        "        for amount in self.deposit_log:\n",
        "            print(amount)\n",
        "\n",
        "\n",
        "k = Account(\"Kim\", 1000)\n",
        "k.deposit(100)\n",
        "k.deposit(200)\n",
        "k.deposit(300)\n",
        "k.deposit_history()\n",
        "\n",
        "k.withdraw(100)\n",
        "k.withdraw(200)\n",
        "k.withdraw_history()"
      ],
      "metadata": {
        "colab": {
          "base_uri": "https://localhost:8080/"
        },
        "id": "FGC9Aal5zZui",
        "outputId": "092a9246-ca7e-4235-a50e-bff873f2b245"
      },
      "execution_count": null,
      "outputs": [
        {
          "output_type": "stream",
          "name": "stdout",
          "text": [
            "100\n",
            "200\n",
            "300\n",
            "100\n",
            "200\n"
          ]
        }
      ]
    },
    {
      "cell_type": "code",
      "source": [
        "#281\n",
        "class 차:\n",
        "    def __init__(self,바퀴,가격):\n",
        "        self.바퀴 =바퀴\n",
        "        self.가격 =가격\n",
        "\n",
        "car = 차(2,100)\n",
        "print(car.바퀴)\n",
        "print(car.가격)\n"
      ],
      "metadata": {
        "colab": {
          "base_uri": "https://localhost:8080/"
        },
        "id": "J6VkuXwnzZwu",
        "outputId": "5a7797e7-aadb-4331-9b5b-a98210347e15"
      },
      "execution_count": null,
      "outputs": [
        {
          "output_type": "stream",
          "name": "stdout",
          "text": [
            "2\n",
            "100\n"
          ]
        }
      ]
    },
    {
      "cell_type": "code",
      "source": [
        "#282 \n",
        "class 차:\n",
        "    def __init__(self, 바퀴, 가격):\n",
        "        self.바퀴 = 바퀴\n",
        "        self.가격 = 가격\n",
        "\n",
        "\n",
        "class 자전차(차):\n",
        "    def __init__(self, 바퀴, 가격):\n",
        "        self.바퀴 = 바퀴\n",
        "        self.가격 = 가격\n",
        "\n",
        "    "
      ],
      "metadata": {
        "id": "9-HFE9bEzZy6"
      },
      "execution_count": null,
      "outputs": []
    },
    {
      "cell_type": "code",
      "source": [
        "#283\n",
        "\n",
        "bicyle = 자전차(2,100)\n",
        "print(bicyle.가격)"
      ],
      "metadata": {
        "colab": {
          "base_uri": "https://localhost:8080/"
        },
        "id": "TmjGgM2nzZ1M",
        "outputId": "6039d7c1-e0f5-4dd2-8254-e9d50d142bcd"
      },
      "execution_count": null,
      "outputs": [
        {
          "output_type": "stream",
          "name": "stdout",
          "text": [
            "100\n"
          ]
        }
      ]
    },
    {
      "cell_type": "code",
      "source": [
        "#284\n",
        "class 차:\n",
        "    def __init__(self, 바퀴, 가격):\n",
        "        self.바퀴 = 바퀴\n",
        "        self.가격 = 가격\n",
        "\n",
        "\n",
        "class 자전차(차):\n",
        "    def __init__(self, 바퀴, 가격, 구동계):\n",
        "        self.바퀴 = 바퀴\n",
        "        self.가격 = 가격\n",
        "        self.구동계 = 구동계\n",
        "\n",
        "bicyle = 자전차(2,100,'시마노')\n",
        "print(bicyle.구동계)"
      ],
      "metadata": {
        "colab": {
          "base_uri": "https://localhost:8080/"
        },
        "id": "RjQ5jowczZ3n",
        "outputId": "71c7d7dc-d007-41b5-86b5-c04e297c24c3"
      },
      "execution_count": null,
      "outputs": [
        {
          "output_type": "stream",
          "name": "stdout",
          "text": [
            "시마노\n"
          ]
        }
      ]
    },
    {
      "cell_type": "code",
      "source": [
        "#285 오류남\n",
        "class 차:\n",
        "    def __init__(self, 바퀴, 가격):\n",
        "        self.바퀴 = 바퀴\n",
        "        self.가격 = 가격\n",
        "\n",
        "\n",
        "class 자동차(차):\n",
        "    def __init__(self, 바퀴, 가격):\n",
        "        super().__init__(바퀴, 가격) #부모의 상속을 가져옴\n",
        "    \n",
        "    def 정보(self):\n",
        "        print(\"바퀴수\" , self.바퀴)\n",
        "        print(\"가격\" , self.가격)\n",
        "\n",
        "\n",
        "car = 자동차(4, 1000)\n",
        "car.정보()\n",
        "\n",
        "\n",
        "#car = 자동차(4,1000)\n",
        "#car.정보()"
      ],
      "metadata": {
        "colab": {
          "base_uri": "https://localhost:8080/"
        },
        "id": "6my27586zZ51",
        "outputId": "439074f9-8672-40ed-fdb8-5664ea13590e"
      },
      "execution_count": null,
      "outputs": [
        {
          "output_type": "stream",
          "name": "stdout",
          "text": [
            "바퀴수 4\n",
            "가격 1000\n"
          ]
        }
      ]
    },
    {
      "cell_type": "code",
      "source": [
        "#286, 287\n",
        "\n",
        "class 차:\n",
        "    def __init__(self, 바퀴, 가격):\n",
        "        self.바퀴 = 바퀴\n",
        "        self.가격 = 가격\n",
        "    def 정보(self):\n",
        "        print(\"바퀴수\",self.바퀴)\n",
        "        print(\"가격\",self.가격)\n",
        "class 자동차(차):\n",
        "    def __init__(self, 바퀴, 가격):\n",
        "        super().__init__(바퀴, 가격) #부모의 상속을 가져옴\n",
        "\n",
        "\n",
        "class 자전차(차):\n",
        "    def __init__(self, 바퀴, 가격, 구동계):\n",
        "        super().__init__(바퀴, 가격)\n",
        "        self.구동계 = 구동계\n",
        "    def 정보(self):\n",
        "        super().정보()\n",
        "        print(\"구동계\",self.구동계)\n",
        "\n",
        "biycle = 자전차(2,100,\"시마노\")\n",
        "biycle.정보()"
      ],
      "metadata": {
        "colab": {
          "base_uri": "https://localhost:8080/"
        },
        "id": "B13no4VdC_We",
        "outputId": "48f99198-78ed-483e-fe77-4cbfcc817a1c"
      },
      "execution_count": null,
      "outputs": [
        {
          "output_type": "stream",
          "name": "stdout",
          "text": [
            "바퀴수 2\n",
            "가격 100\n",
            "구동계 시마노\n"
          ]
        }
      ]
    },
    {
      "cell_type": "code",
      "source": [
        "#288\n",
        "class 부모:\n",
        "  def 호출(self):\n",
        "    print(\"부모호출\")\n",
        "\n",
        "class 자식(부모):\n",
        "  def 호출(self):\n",
        "    print(\"자식호출\")\n",
        "\n",
        "나 = 자식()\n",
        "나.호출()"
      ],
      "metadata": {
        "colab": {
          "base_uri": "https://localhost:8080/"
        },
        "id": "H4kQl3u_EalN",
        "outputId": "4773f196-072f-41e9-e616-a1b31495b417"
      },
      "execution_count": null,
      "outputs": [
        {
          "output_type": "stream",
          "name": "stdout",
          "text": [
            "자식호출\n"
          ]
        }
      ]
    },
    {
      "cell_type": "code",
      "source": [
        "#289\n",
        "class 부모:\n",
        "  def __init__(self):\n",
        "    print(\"부모생성\")\n",
        "\n",
        "class 자식(부모):\n",
        "  def __init__(self):\n",
        "    super().__init__() #응용\n",
        "    print(\"자식생성\")\n",
        "\n",
        "나 = 자식()"
      ],
      "metadata": {
        "colab": {
          "base_uri": "https://localhost:8080/"
        },
        "id": "L1co3Xs6FDUI",
        "outputId": "40cd2fe3-c213-41eb-b89a-6811e89e193f"
      },
      "execution_count": null,
      "outputs": [
        {
          "output_type": "stream",
          "name": "stdout",
          "text": [
            "부모생성\n",
            "자식생성\n"
          ]
        }
      ]
    },
    {
      "cell_type": "code",
      "source": [
        "#290\n",
        "class 부모:\n",
        "  def __init__(self):\n",
        "    print(\"부모생성\")\n",
        "\n",
        "class 자식(부모):\n",
        "  def __init__(self):\n",
        "    print(\"자식생성\")\n",
        "    super().__init__()\n",
        "\n",
        "나 = 자식()"
      ],
      "metadata": {
        "colab": {
          "base_uri": "https://localhost:8080/"
        },
        "id": "Gm5lFOlmFU5a",
        "outputId": "6eb5ada6-84e5-4217-a1f4-58e05eb36259"
      },
      "execution_count": null,
      "outputs": [
        {
          "output_type": "stream",
          "name": "stdout",
          "text": [
            "자식생성\n",
            "부모생성\n"
          ]
        }
      ]
    },
    {
      "cell_type": "code",
      "source": [
        "#291\n",
        "f = open(\"/content/매수종목1.txt\", mode ='wt', encoding = 'utf-8')"
      ],
      "metadata": {
        "id": "or4t16vnF9SP"
      },
      "execution_count": null,
      "outputs": []
    },
    {
      "cell_type": "code",
      "source": [
        "f.write(\"005930\\n\")\n",
        "f.write(\"005380\\n\")\n",
        "f.write(\"035420\")\n",
        "f.close()"
      ],
      "metadata": {
        "id": "6lLfuMayGYsX"
      },
      "execution_count": null,
      "outputs": []
    },
    {
      "cell_type": "code",
      "source": [
        "#292\n",
        "f = open(\"/content/매수종목2.txt\", mode = 'wt', encoding = 'utf-8')"
      ],
      "metadata": {
        "id": "wKj5ZyDHGpyc"
      },
      "execution_count": null,
      "outputs": []
    },
    {
      "cell_type": "code",
      "source": [
        "f.write(\"005930 삼성전자\\n\")\n",
        "f.write(\"005380 현대차\\n\")\n",
        "f.write(\"035420 NAVER\")\n",
        "f.close()"
      ],
      "metadata": {
        "id": "Ok1md6aUG2nG"
      },
      "execution_count": null,
      "outputs": []
    },
    {
      "cell_type": "code",
      "source": [
        "#293\n",
        "\n",
        "import csv\n",
        "\n",
        "f = open(\"/content/매수종목3.csv\", mode=\"wt\", encoding=\"cp949\", newline='')\n",
        "writer = csv.writer(f)\n",
        "writer.writerow([\"종목명\", \"종목코드\", \"PER\"])\n",
        "writer.writerow([\"삼성전자\", \"005930\", 15.59])\n",
        "writer.writerow([\"NAVER\", \"035420\", 55.82])\n",
        "f.close()"
      ],
      "metadata": {
        "id": "8gahTZwoHDeW"
      },
      "execution_count": null,
      "outputs": []
    },
    {
      "cell_type": "code",
      "source": [
        "#294\n",
        "\n",
        "f = open(\"/content/매수종목1.txt\", encoding = 'utf-8')\n",
        "lines = f.readlines()\n",
        "\n",
        "codes = []\n",
        "for line in lines:\n",
        "    code = line.strip()\n",
        "    codes.append(code)\n",
        "\n",
        "print(codes)\n",
        "f.close()"
      ],
      "metadata": {
        "colab": {
          "base_uri": "https://localhost:8080/"
        },
        "id": "dweXwJllHXuw",
        "outputId": "6fbb1761-82e0-4667-9c8a-581f16fb14a1"
      },
      "execution_count": null,
      "outputs": [
        {
          "output_type": "stream",
          "name": "stdout",
          "text": [
            "['005930', '005380', '035420']\n"
          ]
        }
      ]
    },
    {
      "cell_type": "code",
      "source": [
        "#295\n",
        "f = open(\"/content/매수종목2.txt\", encoding = 'utf-8')\n",
        "lines = f.readlines()\n",
        "\n",
        "data = {}\n",
        "for line in lines:\n",
        "    line = line.strip()\n",
        "    k, v = line.split()\n",
        "    print(k,v)\n",
        "    data[k]= v\n",
        "print(data)"
      ],
      "metadata": {
        "colab": {
          "base_uri": "https://localhost:8080/"
        },
        "id": "guIMqlrxHphE",
        "outputId": "978fa840-fb51-435d-d666-d82379fa5046"
      },
      "execution_count": null,
      "outputs": [
        {
          "output_type": "stream",
          "name": "stdout",
          "text": [
            "005930 삼성전자\n",
            "005380 현대차\n",
            "035420 NAVER\n",
            "{'005930': '삼성전자', '005380': '현대차', '035420': 'NAVER'}\n"
          ]
        }
      ]
    },
    {
      "cell_type": "code",
      "source": [
        "#296\n",
        "per = [\"10.31\", \"\", \"8.00\"]\n",
        "\n",
        "for i in per:\n",
        "    try:\n",
        "        print(float(i))\n",
        "    except:\n",
        "        print(0)"
      ],
      "metadata": {
        "colab": {
          "base_uri": "https://localhost:8080/"
        },
        "id": "K_Tl2_n_IEHU",
        "outputId": "73177b0f-ba71-4cdf-be3f-13461fd5f55b"
      },
      "execution_count": null,
      "outputs": [
        {
          "output_type": "stream",
          "name": "stdout",
          "text": [
            "10.31\n",
            "0\n",
            "8.0\n"
          ]
        }
      ]
    },
    {
      "cell_type": "code",
      "source": [
        "#297\n",
        "per = [\"10.31\", \"\", \"8.00\"]\n",
        "new_per=[]\n",
        "\n",
        "for i in per:\n",
        "    try:\n",
        "        v = float(i)\n",
        "    except:\n",
        "        v = 0\n",
        "    new_per.append(v)\n",
        "\n",
        "print(new_per)\n"
      ],
      "metadata": {
        "colab": {
          "base_uri": "https://localhost:8080/"
        },
        "id": "3YyYHsfBIdz_",
        "outputId": "401f06ed-a904-464d-c006-a9b8dce89e61"
      },
      "execution_count": null,
      "outputs": [
        {
          "output_type": "stream",
          "name": "stdout",
          "text": [
            "[10.31, 0, 8.0]\n"
          ]
        }
      ]
    },
    {
      "cell_type": "code",
      "source": [
        "#298\n",
        "try:\n",
        "    b = 3 / 0\n",
        "except ZeroDivisionError:\n",
        "    print(\"0으로 나누면 안되요\")"
      ],
      "metadata": {
        "colab": {
          "base_uri": "https://localhost:8080/"
        },
        "id": "SMFrIvGPI34N",
        "outputId": "acb91480-6ed7-4a1a-e72a-080c4e44a743"
      },
      "execution_count": null,
      "outputs": [
        {
          "output_type": "stream",
          "name": "stdout",
          "text": [
            "0으로 나누면 안되요\n"
          ]
        }
      ]
    },
    {
      "cell_type": "code",
      "source": [
        "#299\n",
        "data = [1, 2, 3]\n",
        "\n",
        "for i in range(5): \n",
        "    try:#실행코드\n",
        "        print(data[i])\n",
        "    except IndexError as e: # 예외처리코드\n",
        "        print(e)\n"
      ],
      "metadata": {
        "colab": {
          "base_uri": "https://localhost:8080/"
        },
        "id": "Pa4Ox6OWJj01",
        "outputId": "6fc7120a-70d8-4ad2-95f6-7fe7377c2878"
      },
      "execution_count": null,
      "outputs": [
        {
          "output_type": "stream",
          "name": "stdout",
          "text": [
            "1\n",
            "2\n",
            "3\n",
            "list index out of range\n",
            "list index out of range\n"
          ]
        }
      ]
    },
    {
      "cell_type": "code",
      "source": [
        "#300\n",
        "per = [\"10.31\", \"\", \"8.00\"]\n",
        "\n",
        "for i in per:\n",
        "    try: #실행\n",
        "        print(float(i))\n",
        "    except: #예외처리\n",
        "        print(0)\n",
        "    else: \n",
        "        print(\"clean data\")\n",
        "    finally:\n",
        "        print(\"변환 완료\")"
      ],
      "metadata": {
        "colab": {
          "base_uri": "https://localhost:8080/"
        },
        "id": "oJnPyGFYJpzJ",
        "outputId": "3f98f50c-6df3-47a8-ce01-90e55200c572"
      },
      "execution_count": null,
      "outputs": [
        {
          "output_type": "stream",
          "name": "stdout",
          "text": [
            "10.31\n",
            "clean data\n",
            "변환 완료\n",
            "0\n",
            "변환 완료\n",
            "8.0\n",
            "clean data\n",
            "변환 완료\n"
          ]
        }
      ]
    },
    {
      "cell_type": "code",
      "source": [],
      "metadata": {
        "id": "DCL3HaNYJ71y"
      },
      "execution_count": null,
      "outputs": []
    }
  ]
}